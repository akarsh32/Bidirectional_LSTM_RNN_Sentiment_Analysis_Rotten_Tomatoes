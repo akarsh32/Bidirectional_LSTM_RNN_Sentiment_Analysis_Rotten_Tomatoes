{
  "nbformat": 4,
  "nbformat_minor": 0,
  "metadata": {
    "kernelspec": {
      "display_name": "Python 3",
      "language": "python",
      "name": "python3"
    },
    "language_info": {
      "codemirror_mode": {
        "name": "ipython",
        "version": 3
      },
      "file_extension": ".py",
      "mimetype": "text/x-python",
      "name": "python",
      "nbconvert_exporter": "python",
      "pygments_lexer": "ipython3",
      "version": "3.7.6"
    },
    "colab": {
      "name": "Bidirectional_LSTM_RNN_Sentiment Analysis_Rotten_Tomatoes.ipynb",
      "provenance": []
    },
    "accelerator": "GPU"
  },
  "cells": [
    {
      "cell_type": "markdown",
      "metadata": {
        "id": "wx9Iix07gFNX"
      },
      "source": [
        "# Natural Language Processing\n",
        "\n",
        "NLP is a field of study at the intersection of :\n",
        "\n",
        "    1.Computer Science\n",
        "    2.AI\n",
        "    3.Linguistic\n",
        "\n",
        "The goal is to process natural language by the computers to do some task.\n",
        "\n",
        "Sentiment analysis is an application of NLP."
      ]
    },
    {
      "cell_type": "code",
      "metadata": {
        "id": "BcGe7KMygS8r",
        "outputId": "d28faef5-d07c-455b-f65d-4e7e555c8d45",
        "colab": {
          "base_uri": "https://localhost:8080/",
          "height": 34
        }
      },
      "source": [
        "from google.colab import drive\n",
        "drive.mount('/content/drive')"
      ],
      "execution_count": 1,
      "outputs": [
        {
          "output_type": "stream",
          "text": [
            "Mounted at /content/drive\n"
          ],
          "name": "stdout"
        }
      ]
    },
    {
      "cell_type": "code",
      "metadata": {
        "id": "7bBDQb62g7Yo"
      },
      "source": [
        "#import some necessary packages\n",
        "import numpy as np # linear algebra\n",
        "import pandas as pd # data processing, CSV file I/O (e.g. pd.read_csv)\n",
        "import matplotlib.pyplot as plt \n",
        "import seaborn as sns\n",
        "%matplotlib inline\n",
        "import warnings\n",
        "warnings.simplefilter('ignore')"
      ],
      "execution_count": 2,
      "outputs": []
    },
    {
      "cell_type": "markdown",
      "metadata": {
        "id": "qxDAzIYEgFNq"
      },
      "source": [
        "## Data\n",
        "\n",
        "Project: Sentiment Analysis on Movie Reviews\n",
        "         Using Rotten Tomatoes dataset for natural language processing or Text  analytics.\n",
        "This is a dataset for binary sentiment classification."
      ]
    },
    {
      "cell_type": "code",
      "metadata": {
        "id": "DdxfnTB_LOG-"
      },
      "source": [
        "training_data_folder = '/content/drive/My Drive/Colab Notebooks/RNN/train.tsv'"
      ],
      "execution_count": 3,
      "outputs": []
    },
    {
      "cell_type": "code",
      "metadata": {
        "id": "lhJnn1UVgFNt"
      },
      "source": [
        "df = pd.read_csv(training_data_folder, sep='\\t') #let's read the training dataset"
      ],
      "execution_count": 4,
      "outputs": []
    },
    {
      "cell_type": "code",
      "metadata": {
        "id": "JSeu3CkSgFN0",
        "outputId": "64151ddf-8826-4df5-dca1-a9073a25e963",
        "colab": {
          "base_uri": "https://localhost:8080/",
          "height": 204
        }
      },
      "source": [
        "df.head()"
      ],
      "execution_count": 5,
      "outputs": [
        {
          "output_type": "execute_result",
          "data": {
            "text/html": [
              "<div>\n",
              "<style scoped>\n",
              "    .dataframe tbody tr th:only-of-type {\n",
              "        vertical-align: middle;\n",
              "    }\n",
              "\n",
              "    .dataframe tbody tr th {\n",
              "        vertical-align: top;\n",
              "    }\n",
              "\n",
              "    .dataframe thead th {\n",
              "        text-align: right;\n",
              "    }\n",
              "</style>\n",
              "<table border=\"1\" class=\"dataframe\">\n",
              "  <thead>\n",
              "    <tr style=\"text-align: right;\">\n",
              "      <th></th>\n",
              "      <th>PhraseId</th>\n",
              "      <th>SentenceId</th>\n",
              "      <th>Phrase</th>\n",
              "      <th>Sentiment</th>\n",
              "    </tr>\n",
              "  </thead>\n",
              "  <tbody>\n",
              "    <tr>\n",
              "      <th>0</th>\n",
              "      <td>1</td>\n",
              "      <td>1</td>\n",
              "      <td>A series of escapades demonstrating the adage ...</td>\n",
              "      <td>1</td>\n",
              "    </tr>\n",
              "    <tr>\n",
              "      <th>1</th>\n",
              "      <td>2</td>\n",
              "      <td>1</td>\n",
              "      <td>A series of escapades demonstrating the adage ...</td>\n",
              "      <td>2</td>\n",
              "    </tr>\n",
              "    <tr>\n",
              "      <th>2</th>\n",
              "      <td>3</td>\n",
              "      <td>1</td>\n",
              "      <td>A series</td>\n",
              "      <td>2</td>\n",
              "    </tr>\n",
              "    <tr>\n",
              "      <th>3</th>\n",
              "      <td>4</td>\n",
              "      <td>1</td>\n",
              "      <td>A</td>\n",
              "      <td>2</td>\n",
              "    </tr>\n",
              "    <tr>\n",
              "      <th>4</th>\n",
              "      <td>5</td>\n",
              "      <td>1</td>\n",
              "      <td>series</td>\n",
              "      <td>2</td>\n",
              "    </tr>\n",
              "  </tbody>\n",
              "</table>\n",
              "</div>"
            ],
            "text/plain": [
              "   PhraseId  ...  Sentiment\n",
              "0         1  ...          1\n",
              "1         2  ...          2\n",
              "2         3  ...          2\n",
              "3         4  ...          2\n",
              "4         5  ...          2\n",
              "\n",
              "[5 rows x 4 columns]"
            ]
          },
          "metadata": {
            "tags": []
          },
          "execution_count": 5
        }
      ]
    },
    {
      "cell_type": "code",
      "metadata": {
        "id": "CHNutXjrgFN8",
        "outputId": "006e8384-608a-4580-974d-57526ba65763",
        "colab": {
          "base_uri": "https://localhost:8080/",
          "height": 34
        }
      },
      "source": [
        "len(df)"
      ],
      "execution_count": 6,
      "outputs": [
        {
          "output_type": "execute_result",
          "data": {
            "text/plain": [
              "156060"
            ]
          },
          "metadata": {
            "tags": []
          },
          "execution_count": 6
        }
      ]
    },
    {
      "cell_type": "code",
      "metadata": {
        "id": "yNb_YPMRgFOH",
        "outputId": "df7ba788-3ced-40fb-c22a-0cffcd5c8e79",
        "colab": {
          "base_uri": "https://localhost:8080/",
          "height": 204
        }
      },
      "source": [
        "df.info()"
      ],
      "execution_count": 7,
      "outputs": [
        {
          "output_type": "stream",
          "text": [
            "<class 'pandas.core.frame.DataFrame'>\n",
            "RangeIndex: 156060 entries, 0 to 156059\n",
            "Data columns (total 4 columns):\n",
            " #   Column      Non-Null Count   Dtype \n",
            "---  ------      --------------   ----- \n",
            " 0   PhraseId    156060 non-null  int64 \n",
            " 1   SentenceId  156060 non-null  int64 \n",
            " 2   Phrase      156060 non-null  object\n",
            " 3   Sentiment   156060 non-null  int64 \n",
            "dtypes: int64(3), object(1)\n",
            "memory usage: 4.8+ MB\n"
          ],
          "name": "stdout"
        }
      ]
    },
    {
      "cell_type": "code",
      "metadata": {
        "id": "SwyHPRnJgFOS",
        "outputId": "1b8e2ae6-661a-438b-fc7c-08bb43b66876",
        "colab": {
          "base_uri": "https://localhost:8080/",
          "height": 119
        }
      },
      "source": [
        "df.Sentiment.value_counts()"
      ],
      "execution_count": 8,
      "outputs": [
        {
          "output_type": "execute_result",
          "data": {
            "text/plain": [
              "2    79582\n",
              "3    32927\n",
              "1    27273\n",
              "4     9206\n",
              "0     7072\n",
              "Name: Sentiment, dtype: int64"
            ]
          },
          "metadata": {
            "tags": []
          },
          "execution_count": 8
        }
      ]
    },
    {
      "cell_type": "code",
      "metadata": {
        "id": "qE3UE_p1g7ZN"
      },
      "source": [
        "#The sentiment labels are:\n",
        "\n",
        "# 0 - negative; 1 - somewhat negative; 2 - neutral; 3 - somewhat positive; 4 - positive"
      ],
      "execution_count": 9,
      "outputs": []
    },
    {
      "cell_type": "code",
      "metadata": {
        "id": "462aB8AVg7ZV",
        "outputId": "ea49b4c3-e27d-4e11-a80b-e77e0e857256",
        "colab": {
          "base_uri": "https://localhost:8080/",
          "height": 52
        }
      },
      "source": [
        "# let us check the phrase of the first data of the dataset\n",
        "df.iloc[0]['Phrase']"
      ],
      "execution_count": 10,
      "outputs": [
        {
          "output_type": "execute_result",
          "data": {
            "application/vnd.google.colaboratory.intrinsic+json": {
              "type": "string"
            },
            "text/plain": [
              "'A series of escapades demonstrating the adage that what is good for the goose is also good for the gander , some of which occasionally amuses but none of which amounts to much of a story .'"
            ]
          },
          "metadata": {
            "tags": []
          },
          "execution_count": 10
        }
      ]
    },
    {
      "cell_type": "code",
      "metadata": {
        "id": "RS6vrie2g7Zg",
        "outputId": "2a0dedc4-b676-4b14-e703-85fb551e3bc4",
        "colab": {
          "base_uri": "https://localhost:8080/",
          "height": 35
        }
      },
      "source": [
        "# let us check the phrase of the second data of the dataset\n",
        "df.iloc[1]['Phrase']"
      ],
      "execution_count": 11,
      "outputs": [
        {
          "output_type": "execute_result",
          "data": {
            "application/vnd.google.colaboratory.intrinsic+json": {
              "type": "string"
            },
            "text/plain": [
              "'A series of escapades demonstrating the adage that what is good for the goose'"
            ]
          },
          "metadata": {
            "tags": []
          },
          "execution_count": 11
        }
      ]
    },
    {
      "cell_type": "markdown",
      "metadata": {
        "id": "OUd-dxWig7Zr"
      },
      "source": [
        "#  Exploratory Data Analysis"
      ]
    },
    {
      "cell_type": "markdown",
      "metadata": {
        "id": "i6VvgzDGg7ad"
      },
      "source": [
        "Let's plot it!"
      ]
    },
    {
      "cell_type": "markdown",
      "metadata": {
        "id": "OQcu3WUZg7ao"
      },
      "source": [
        "Let's see if our data has any null values."
      ]
    },
    {
      "cell_type": "code",
      "metadata": {
        "id": "qvmd4L0Og7aq",
        "outputId": "469deeab-f17a-4220-c320-482369f2dcbe",
        "colab": {
          "base_uri": "https://localhost:8080/",
          "height": 102
        }
      },
      "source": [
        "df.isnull().sum()"
      ],
      "execution_count": 12,
      "outputs": [
        {
          "output_type": "execute_result",
          "data": {
            "text/plain": [
              "PhraseId      0\n",
              "SentenceId    0\n",
              "Phrase        0\n",
              "Sentiment     0\n",
              "dtype: int64"
            ]
          },
          "metadata": {
            "tags": []
          },
          "execution_count": 12
        }
      ]
    },
    {
      "cell_type": "code",
      "metadata": {
        "id": "p_8Q-myyg7ay",
        "outputId": "fea272af-cde2-4d5a-89c7-c1803aebe81c",
        "colab": {
          "base_uri": "https://localhost:8080/",
          "height": 102
        }
      },
      "source": [
        "df.isna().sum()"
      ],
      "execution_count": 13,
      "outputs": [
        {
          "output_type": "execute_result",
          "data": {
            "text/plain": [
              "PhraseId      0\n",
              "SentenceId    0\n",
              "Phrase        0\n",
              "Sentiment     0\n",
              "dtype: int64"
            ]
          },
          "metadata": {
            "tags": []
          },
          "execution_count": 13
        }
      ]
    },
    {
      "cell_type": "code",
      "metadata": {
        "id": "owFcxReNg7a6"
      },
      "source": [
        "df['Length'] = df['Phrase'].apply(lambda x: len(str(x).split(' ')))"
      ],
      "execution_count": 14,
      "outputs": []
    },
    {
      "cell_type": "code",
      "metadata": {
        "id": "SXK7xFPmg7bB",
        "outputId": "7bc1e283-ffa2-47a0-94c0-5e2230822a33",
        "colab": {
          "base_uri": "https://localhost:8080/",
          "height": 204
        }
      },
      "source": [
        "df.head()"
      ],
      "execution_count": 15,
      "outputs": [
        {
          "output_type": "execute_result",
          "data": {
            "text/html": [
              "<div>\n",
              "<style scoped>\n",
              "    .dataframe tbody tr th:only-of-type {\n",
              "        vertical-align: middle;\n",
              "    }\n",
              "\n",
              "    .dataframe tbody tr th {\n",
              "        vertical-align: top;\n",
              "    }\n",
              "\n",
              "    .dataframe thead th {\n",
              "        text-align: right;\n",
              "    }\n",
              "</style>\n",
              "<table border=\"1\" class=\"dataframe\">\n",
              "  <thead>\n",
              "    <tr style=\"text-align: right;\">\n",
              "      <th></th>\n",
              "      <th>PhraseId</th>\n",
              "      <th>SentenceId</th>\n",
              "      <th>Phrase</th>\n",
              "      <th>Sentiment</th>\n",
              "      <th>Length</th>\n",
              "    </tr>\n",
              "  </thead>\n",
              "  <tbody>\n",
              "    <tr>\n",
              "      <th>0</th>\n",
              "      <td>1</td>\n",
              "      <td>1</td>\n",
              "      <td>A series of escapades demonstrating the adage ...</td>\n",
              "      <td>1</td>\n",
              "      <td>37</td>\n",
              "    </tr>\n",
              "    <tr>\n",
              "      <th>1</th>\n",
              "      <td>2</td>\n",
              "      <td>1</td>\n",
              "      <td>A series of escapades demonstrating the adage ...</td>\n",
              "      <td>2</td>\n",
              "      <td>14</td>\n",
              "    </tr>\n",
              "    <tr>\n",
              "      <th>2</th>\n",
              "      <td>3</td>\n",
              "      <td>1</td>\n",
              "      <td>A series</td>\n",
              "      <td>2</td>\n",
              "      <td>2</td>\n",
              "    </tr>\n",
              "    <tr>\n",
              "      <th>3</th>\n",
              "      <td>4</td>\n",
              "      <td>1</td>\n",
              "      <td>A</td>\n",
              "      <td>2</td>\n",
              "      <td>1</td>\n",
              "    </tr>\n",
              "    <tr>\n",
              "      <th>4</th>\n",
              "      <td>5</td>\n",
              "      <td>1</td>\n",
              "      <td>series</td>\n",
              "      <td>2</td>\n",
              "      <td>1</td>\n",
              "    </tr>\n",
              "  </tbody>\n",
              "</table>\n",
              "</div>"
            ],
            "text/plain": [
              "   PhraseId  SentenceId  ... Sentiment  Length\n",
              "0         1           1  ...         1      37\n",
              "1         2           1  ...         2      14\n",
              "2         3           1  ...         2       2\n",
              "3         4           1  ...         2       1\n",
              "4         5           1  ...         2       1\n",
              "\n",
              "[5 rows x 5 columns]"
            ]
          },
          "metadata": {
            "tags": []
          },
          "execution_count": 15
        }
      ]
    },
    {
      "cell_type": "code",
      "metadata": {
        "id": "-vewDKlQg7bI",
        "outputId": "fcd730e3-7b6e-4b48-cdf5-4342494412c6",
        "colab": {
          "base_uri": "https://localhost:8080/",
          "height": 85
        }
      },
      "source": [
        "df['Length'].unique()"
      ],
      "execution_count": 16,
      "outputs": [
        {
          "output_type": "execute_result",
          "data": {
            "text/plain": [
              "array([37, 14,  2,  1, 12, 11, 10,  3,  7,  6,  5,  4, 23, 22, 20, 19, 18,\n",
              "       15,  9,  8, 21, 26, 25, 16, 13, 17, 30, 28, 27, 24, 41, 40, 36, 29,\n",
              "       31, 32, 34, 33, 42, 39, 38, 35, 43, 45, 44, 49, 48, 47, 46, 51, 50,\n",
              "       52])"
            ]
          },
          "metadata": {
            "tags": []
          },
          "execution_count": 16
        }
      ]
    },
    {
      "cell_type": "markdown",
      "metadata": {
        "id": "S9PV5-Mbg7bS"
      },
      "source": [
        "Let's check out for any pattern"
      ]
    },
    {
      "cell_type": "code",
      "metadata": {
        "id": "J8tKmNpAg7bU",
        "outputId": "60c6301f-424d-40da-dc70-8a5de275552b",
        "colab": {
          "base_uri": "https://localhost:8080/",
          "height": 567
        }
      },
      "source": [
        "import seaborn as sns\n",
        "sns.pairplot(df,hue='Sentiment',vars=['PhraseId','SentenceId','Length'])"
      ],
      "execution_count": 17,
      "outputs": [
        {
          "output_type": "execute_result",
          "data": {
            "text/plain": [
              "<seaborn.axisgrid.PairGrid at 0x7f124cb181d0>"
            ]
          },
          "metadata": {
            "tags": []
          },
          "execution_count": 17
        },
        {
          "output_type": "display_data",
          "data": {
            "image/png": "[encoded data removed]",
            "text/plain": [
              "<Figure size 599.5x540 with 12 Axes>"
            ]
          },
          "metadata": {
            "tags": [],
            "needs_background": "light"
          }
        }
      ]
    },
    {
      "cell_type": "code",
      "metadata": {
        "id": "T1i1YKIAg7bb"
      },
      "source": [
        "#so sentiment 4 has short length reviews but also has long length reviews. But mainly sentiment 0,1 and 2 have longer length reviews. \n",
        "#Classifying on basis of length seems difficult.\n",
        "#let's move on to next analysis"
      ],
      "execution_count": 18,
      "outputs": []
    },
    {
      "cell_type": "code",
      "metadata": {
        "id": "dU4-2pp-n5sn",
        "outputId": "8ec4b906-8fdc-4625-de45-005512254d7c",
        "colab": {
          "base_uri": "https://localhost:8080/",
          "height": 35
        }
      },
      "source": [
        "pwd"
      ],
      "execution_count": 19,
      "outputs": [
        {
          "output_type": "execute_result",
          "data": {
            "application/vnd.google.colaboratory.intrinsic+json": {
              "type": "string"
            },
            "text/plain": [
              "'/content'"
            ]
          },
          "metadata": {
            "tags": []
          },
          "execution_count": 19
        }
      ]
    },
    {
      "cell_type": "code",
      "metadata": {
        "id": "P8GIYRscoI0N"
      },
      "source": [
        "import os"
      ],
      "execution_count": 20,
      "outputs": []
    },
    {
      "cell_type": "code",
      "metadata": {
        "id": "0bGd8UBkoMtw"
      },
      "source": [
        "os.chdir(\"/content/drive/My Drive/Colab Notebooks\")"
      ],
      "execution_count": 21,
      "outputs": []
    },
    {
      "cell_type": "code",
      "metadata": {
        "id": "4Ob6EiqhoZ1v",
        "outputId": "a37d2f7b-9ba1-4100-e599-b47349a39b48",
        "colab": {
          "base_uri": "https://localhost:8080/",
          "height": 35
        }
      },
      "source": [
        "pwd"
      ],
      "execution_count": 22,
      "outputs": [
        {
          "output_type": "execute_result",
          "data": {
            "application/vnd.google.colaboratory.intrinsic+json": {
              "type": "string"
            },
            "text/plain": [
              "'/content/drive/My Drive/Colab Notebooks'"
            ]
          },
          "metadata": {
            "tags": []
          },
          "execution_count": 22
        }
      ]
    },
    {
      "cell_type": "code",
      "metadata": {
        "id": "agKutaWjn1Z9"
      },
      "source": [
        "#### !wget http://nlp.stanford.edu/data/glove.6B.zip"
      ],
      "execution_count": 23,
      "outputs": []
    },
    {
      "cell_type": "code",
      "metadata": {
        "id": "bFjk8b7On1u-",
        "outputId": "c179e84d-a1ac-43af-ef75-6cb6d5773019",
        "colab": {
          "base_uri": "https://localhost:8080/",
          "height": 35
        }
      },
      "source": [
        "\"\"\"\n",
        "import zipfile\n",
        "zip_ref = zipfile.ZipFile('glove.6B.zip', 'r')\n",
        "zip_ref.extractall('./')\n",
        "zip_ref.close()\n",
        "\n",
        "\"\"\""
      ],
      "execution_count": 24,
      "outputs": [
        {
          "output_type": "execute_result",
          "data": {
            "application/vnd.google.colaboratory.intrinsic+json": {
              "type": "string"
            },
            "text/plain": [
              "\"\\nimport zipfile\\nzip_ref = zipfile.ZipFile('glove.6B.zip', 'r')\\nzip_ref.extractall('./')\\nzip_ref.close()\\n\\n\""
            ]
          },
          "metadata": {
            "tags": []
          },
          "execution_count": 24
        }
      ]
    },
    {
      "cell_type": "code",
      "metadata": {
        "id": "zgaiGOx4gFP_",
        "outputId": "b54db6ca-7c43-4f1b-e29d-d38b15bc9290",
        "colab": {
          "base_uri": "https://localhost:8080/",
          "height": 34
        }
      },
      "source": [
        "import gc\n",
        "gc.collect()"
      ],
      "execution_count": 25,
      "outputs": [
        {
          "output_type": "execute_result",
          "data": {
            "text/plain": [
              "141"
            ]
          },
          "metadata": {
            "tags": []
          },
          "execution_count": 25
        }
      ]
    },
    {
      "cell_type": "code",
      "metadata": {
        "id": "AXw4_gt4gFQ1"
      },
      "source": [
        "import pandas as pd\n",
        "import numpy as np\n",
        "import os\n",
        "import seaborn as sns\n",
        "import pickle\n",
        "from keras.preprocessing.text import Tokenizer\n",
        "from keras.preprocessing.sequence import pad_sequences\n",
        "from keras.utils.np_utils import to_categorical\n",
        "from keras.models import Sequential, load_model\n",
        "from keras.layers import Embedding, Dropout, Dense, LSTM\n",
        "from keras.callbacks import CSVLogger, History, ModelCheckpoint, EarlyStopping\n",
        "from keras import losses\n",
        "from keras import activations\n",
        "from keras import optimizers\n",
        "from sklearn.model_selection import train_test_split\n",
        "from sklearn.metrics import roc_auc_score, roc_curve, auc, accuracy_score, precision_recall_fscore_support, confusion_matrix\n",
        "%matplotlib inline\n",
        "\n",
        "class RottenTomatoesLSTM(object):\n",
        "    def __init__(self, parms):\n",
        "        self._parms = parms\n",
        "        self._tokenizer = Tokenizer(num_words=self._parms['vocabulary_size'])\n",
        "        self._reviews = None\n",
        "        self._balanced = None\n",
        "        self._glove = None\n",
        "        self._embedding_matrix = None\n",
        "        self._model = None\n",
        "        self._verbose = True\n",
        "        self._predicted_classes = None\n",
        "        self._predicted_proba = None\n",
        "        self._eval_actual = None\n",
        "        self._eval_predicted_proba = None\n",
        "        self._eval_predicted_classes = None\n",
        "        self._logs = None\n",
        "        self._tpr = None\n",
        "        self._fpr = None\n",
        "        self._thresholds = None\n",
        "        self._auc = None\n",
        "        self._target_range = None\n",
        "        \n",
        "    def console(self, message):\n",
        "        if self._verbose:\n",
        "            print(message)\n",
        "            \n",
        "    def update_parms(self, parms):\n",
        "        if parms['vocabulary_size'] != self._parms['vocabulary_size']:\n",
        "            self._tokenizer = Tokenizer(num_words=parms['vocabulary_size'])\n",
        "        self._parms = parms\n",
        "        \n",
        "    def load_reviews(self, reviews):\n",
        "        self.console('Loading reviews...')\n",
        "        self._reviews = pd.read_csv(reviews, sep='\\t')\n",
        "        self._reviews['Polarity'] = self._reviews.apply(self._get_polarity, axis=1)\n",
        "        self.console('%d reviews loaded.' % len(self._reviews))\n",
        "        self.console('reviews loaded.' % self._reviews.head())\n",
        "        self._plot_reviews()\n",
        "        \n",
        "    def load_glove(self, glove_folder):\n",
        "        self.console('Loading GloVe embeddings...')\n",
        "        glove = {}\n",
        "        count = 0\n",
        "        with open(os.path.join(glove_folder, 'glove.6B.' + str(self._parms['embedding_dim']) + 'd.txt'), 'r') as f:\n",
        "            while True:\n",
        "                line = f.readline()\n",
        "                if not line:\n",
        "                    break\n",
        "                line = line.split(' ')\n",
        "                word = line[0]\n",
        "                vector = np.asarray(line[1:], dtype='float32')\n",
        "                glove[word] = vector\n",
        "        self._glove = glove\n",
        "        self.console('%d embeddings loaded.' % len(self._glove))\n",
        "        \n",
        "    @property\n",
        "    def training(self):\n",
        "        return self._X_train, self._y_train\n",
        "    \n",
        "    @property\n",
        "    def test(self):\n",
        "        return self._X_test, self._y_test\n",
        "    \n",
        "    @property\n",
        "    def best_model(self):\n",
        "        return self._model\n",
        "    \n",
        "    @property\n",
        "    def predicted_classes(self):\n",
        "        return self._predicted_classes\n",
        "    \n",
        "    @property\n",
        "    def predicted_proba(self):\n",
        "        return self._predicted_proba\n",
        "    \n",
        "    @property\n",
        "    def tokenizer(self):\n",
        "        return self._tokenizer\n",
        "    \n",
        "    @property\n",
        "    def logs(self):\n",
        "        return self._logs\n",
        "    \n",
        "    @property\n",
        "    def prfs(self):\n",
        "        return self._prfs\n",
        "    \n",
        "    @property\n",
        "    def fpr(self):\n",
        "        return self._fpr\n",
        "    \n",
        "    @property\n",
        "    def tpr(self):\n",
        "        return self._tpr\n",
        "    \n",
        "    @property\n",
        "    def auc(self):\n",
        "        return self._auc\n",
        "\t\t\n",
        "    def _get_polarity(self, data):\n",
        "        # set sentiment\n",
        "        if data['Sentiment'] == 0:\n",
        "            return 'negative'\n",
        "        elif data['Sentiment'] == 1:\n",
        "            return 'somewhat negative'\n",
        "        elif data['Sentiment']==2:\n",
        "            return 'neutral'\n",
        "        elif data['Sentiment']==3:\n",
        "            return 'somewhat positive'\n",
        "        else:\n",
        "            return 'positive'\n",
        "          \t\n",
        "    def _plot_reviews(self):\n",
        "        Index = [1,2,3,4,5]\n",
        "        print(self._reviews.Polarity.value_counts())\n",
        "        plt.bar(Index,self._reviews.Polarity.value_counts())\n",
        "        plt.xticks(Index,['neutral','somewhat positive','somewhat negative','positive','negative'],rotation=45)\n",
        "        plt.ylabel('Number of Reviews')\n",
        "        plt.xlabel('Sentiment expressed in Reviews')\n",
        "\n",
        "\t\t\n",
        "    def _balance_dataset(self):\n",
        "        categories = []\n",
        "        samples = []\n",
        "                \n",
        "        self._target_range = range(5)\n",
        "            \n",
        "        for i in self._target_range:\n",
        "            categories.append(self._reviews[self._reviews[self._parms['target']] == i])\n",
        "            \n",
        "        sizes = list(map(lambda s: len(s), categories))\n",
        "        nb_samples = min(self._parms['samples'], np.min(sizes))\n",
        "        self.console('Using %s samples per category' % str(nb_samples))\n",
        "        \n",
        "        for category in categories:\n",
        "            samples.append(category.sample(n=nb_samples, random_state=32))\n",
        "        self._balanced = pd.concat(samples)\n",
        "\n",
        "    def _build_datasets(self):\n",
        "        self._tokenizer.fit_on_texts(self._balanced.Phrase.values)\n",
        "        \n",
        "        sequences = self._tokenizer.texts_to_sequences(self._balanced.Phrase)\n",
        "        padded_seq = pad_sequences(sequences, maxlen=self._parms['seq_size'])\n",
        "\n",
        "        target = self._balanced[self._parms['target']]\n",
        "\n",
        "        self._X_train, self._X_test, self._y_train, self._y_test = train_test_split(padded_seq, target, test_size=0.2, stratify=target.values,random_state=42)\n",
        "\n",
        "    def _build_embeddings(self):\n",
        "        tokenized_words = map(lambda t: t[0], sorted(self._tokenizer.word_index.items(), key=lambda t: t[1])[:self._parms['vocabulary_size']])\n",
        "\n",
        "        embedding_matrix = np.zeros((self._parms['vocabulary_size'], self._parms['embedding_dim']))\n",
        "        for idx, word in enumerate(tokenized_words):\n",
        "            try:\n",
        "                embedding_matrix[idx] = self._glove[word]\n",
        "            except:\n",
        "                pass\n",
        "        self._embedding_matrix = embedding_matrix\n",
        "\n",
        "    def _build_model(self):\n",
        "        model = Sequential()\n",
        "\n",
        "        model.add(Embedding(input_dim=self._parms['vocabulary_size'],\n",
        "                            output_dim=self._parms['embedding_dim'],\n",
        "                            input_length=self._parms['seq_size'],\n",
        "                            weights=[self._embedding_matrix],\n",
        "                            trainable=False))\n",
        "\n",
        "        model.add(LSTM(self._parms['memory_neurons'], dropout=0.2, recurrent_dropout=0.2))\n",
        "        model.add(Dropout(0.2))\n",
        "      \n",
        "        activation = activations.softmax\n",
        "        loss = losses.sparse_categorical_crossentropy\n",
        "        outputs = 5\n",
        "\n",
        "        model.add(Dense(outputs, activation=activation))\n",
        "        model.compile(loss=loss, optimizer='adam', metrics=['accuracy'])\n",
        "        self._model = model\n",
        "        self.console(self._model.summary())\n",
        "\n",
        "    def fit(self, model_name, folder='./', verbose=True):\n",
        "        self._verbose = verbose\n",
        "        \n",
        "        assert self._reviews is not None, 'Reviews file was not loaded'\n",
        "        assert len(self._reviews) > 0, 'Reviews file is empty'\n",
        "        assert self._glove is not None, 'GloVe file was not loaded'\n",
        "        assert len(self._glove) > 0, 'GloVe file is empty'\n",
        "             \n",
        "        self.console('Balancing dataset...')\n",
        "        self._balance_dataset()\n",
        "        self.console('Building training and test datasets...')\n",
        "        self._build_datasets()\n",
        "        self.console('Building word embeddings from GloVe...')\n",
        "        self._build_embeddings()\n",
        "        self.console('Building model...')\n",
        "        self._build_model()\n",
        "        self.console('Fitting model...')\n",
        "        \n",
        "        parms_desc = model_name + '_%ddim_%dvoc_%dseq' % (self._parms['embedding_dim'],\n",
        "                                                          self._parms['vocabulary_size'],\n",
        "                                                          self._parms['seq_size'])\n",
        "\n",
        "        hist = History()\n",
        "        logger = CSVLogger(os.path.join(folder, parms_desc) + '_training_logs.csv')\n",
        "        checks = ModelCheckpoint(os.path.join(folder, parms_desc) + '_model-{epoch:02d}_{val_accuracy:.2f}',\n",
        "                                 monitor='val_accuracy',\n",
        "                                 verbose=int(self._verbose),                                 \n",
        "                                 save_best_only=True,\n",
        "                                 mode='max')\n",
        "        early_stopping = EarlyStopping(monitor='val_accuracy', patience=5)\n",
        "\n",
        "        self._model.fit(self._X_train,\n",
        "                        self._y_train,\n",
        "                        epochs=self._parms['nb_epochs'],\n",
        "                        batch_size=self._parms['batch_size'],\n",
        "                        validation_data=(self._X_test, self._y_test),\n",
        "                        callbacks=[checks, hist, logger, early_stopping])\n",
        "        \n",
        "        self._logs = pd.read_csv(os.path.join(folder, parms_desc) + '_training_logs.csv')\n",
        "        best_epoch = self._logs['val_accuracy'].argmax()\n",
        "        best_val_acc = '{:.2f}'.format(self._logs['val_accuracy'].iloc[best_epoch])\n",
        "        best_model = (os.path.join(folder, parms_desc) + '_model-%02d_%s') % (best_epoch, best_val_acc)\n",
        "        \n",
        "        with open(os.path.join(folder, parms_desc + '_tokenizer'), 'wb') as tok:\n",
        "            pickle.dump(self._tokenizer, tok)\n",
        "        \n",
        "        self.console('Calculating predictions for the best model...')\n",
        "        \n",
        "        self._model = load_model(best_model)\n",
        "        self._predicted_proba = self.predict_proba()\n",
        "        self._predicted_classes = np.argmax(self._predicted_proba, axis=1)\n",
        "        self.console('Calculating metrics for the best model...')\n",
        "        self.evaluate()\n",
        "        self.console('Finished!')\n",
        "        \n",
        "        return self._model\n",
        "\n",
        "    def load(self, tokenizer, model):\n",
        "        error_msg = ''\n",
        "        try:\n",
        "            self._model = load_model(model)\n",
        "        except:\n",
        "            error_msg = 'Error loading model!'\n",
        "            \n",
        "        try:\n",
        "            with open(tokenizer, 'rb') as tok:\n",
        "                self._tokenizer = pickle.load(tok)\n",
        "        except:\n",
        "            error_msg = 'Error loading tokenizer!'\n",
        "            \n",
        "        return (error_msg == ''), error_msg\n",
        "    \n",
        "    def make_prediction(self, sentence):\n",
        "        sequence = self._tokenizer.texts_to_sequences([sentence])\n",
        "        padded_seq = pad_sequences(sequence, maxlen=self._parms['seq_size'])\n",
        "        return self.predict_classes(padded_seq)\n",
        "    \n",
        "    def predict_classes(self, X=None):\n",
        "        data = []\n",
        "        predictions = self.predict_proba(X)\n",
        "        sentiment = np.argmax(predictions)\n",
        "        # check sentiment\n",
        "        if sentiment == 0:\n",
        "            return 'negative'\n",
        "        elif sentiment == 1:\n",
        "            return 'somewhat negative'\n",
        "        elif sentiment==2:\n",
        "            return 'neutral'\n",
        "        elif sentiment==3:\n",
        "            return 'somewhat positive'\n",
        "        else:\n",
        "            return 'positive'\n",
        "        return sentiment\n",
        "        \n",
        "    def predict_proba(self, X=None):\n",
        "        if X is None:\n",
        "            X = self._X_test\n",
        "        predictions = self._model.predict(X)\n",
        "        return predictions\n",
        "    \n",
        "    def evaluate(self, actual=None, predicted_proba=None, threshold=0.5):\n",
        "        if actual is None:\n",
        "            eval_actual = self._y_test[:]\n",
        "        else:\n",
        "            eval_actual = actual[:]\n",
        "            \n",
        "        if predicted_proba is None:\n",
        "            eval_predicted_proba = self._predicted_proba[:]\n",
        "        else:\n",
        "            eval_predicted_proba = predicted_proba[:]\n",
        "            \n",
        "        if len(eval_actual.shape) == 1:\n",
        "            binary = True\n",
        "            eval_predicted_classes = (eval_predicted_proba > threshold).astype(int).ravel()\n",
        "            eval_predicted_proba = eval_predicted_proba.ravel()\n",
        "        else:\n",
        "            binary = False\n",
        "            eval_predicted_classes = eval_predicted_proba.argmax(axis=1)\n",
        "            eval_actual = eval_actual.argmax(axis=1)\n",
        "        \n",
        "        self._eval_actual = eval_actual\n",
        "        self._eval_predicted_proba = eval_predicted_proba\n",
        "        self._eval_predicted_classes = eval_predicted_classes\n",
        "\n",
        "        prfs = precision_recall_fscore_support(y_true=self._eval_actual, y_pred=self._eval_predicted_classes)\n",
        "        prfs = pd.DataFrame.from_dict(dict(zip(['precision', 'recall', 'fscore', 'support'], prfs)))\n",
        "        prfs.set_index([self._target_range], inplace=True)\n",
        "        self._prfs = prfs\n",
        "        \n",
        "        if binary:\n",
        "            self._fpr, self._tpr, self._thresholds = roc_curve(self._eval_actual, self._eval_predicted_proba)\n",
        "            self._auc = auc(self._fpr, self._tpr)\n",
        "        else:\n",
        "            self._fpr, self._tpr, self._thresholds, self._auc = None, None, None, None"
      ],
      "execution_count": 76,
      "outputs": []
    },
    {
      "cell_type": "code",
      "metadata": {
        "id": "-KG3DD8mHQGZ"
      },
      "source": [
        "parms = {'embedding_dim': 300,\n",
        "         'vocabulary_size': 60000,\n",
        "         'seq_size': 100,\n",
        "         'nb_epochs': 50,\n",
        "         'batch_size': 128,\n",
        "         'memory_neurons': 100,\n",
        "         'target': 'Sentiment',\n",
        "         'samples': 62500}\n",
        "\n",
        "lstm = RottenTomatoesLSTM(parms)"
      ],
      "execution_count": 77,
      "outputs": []
    },
    {
      "cell_type": "code",
      "metadata": {
        "id": "KW_W8KrgKtOk"
      },
      "source": [
        "glove_folder = os.getcwd()"
      ],
      "execution_count": 78,
      "outputs": []
    },
    {
      "cell_type": "code",
      "metadata": {
        "id": "xNOC__FvKa8C",
        "outputId": "6a44ad7c-a73f-472a-bc79-03d4b070f6a2",
        "colab": {
          "base_uri": "https://localhost:8080/",
          "height": 499
        }
      },
      "source": [
        "lstm.load_reviews(training_data_folder)"
      ],
      "execution_count": 79,
      "outputs": [
        {
          "output_type": "stream",
          "text": [
            "Loading reviews...\n",
            "156060 reviews loaded.\n",
            "reviews loaded.\n",
            "neutral              79582\n",
            "somewhat positive    32927\n",
            "somewhat negative    27273\n",
            "positive              9206\n",
            "negative              7072\n",
            "Name: Polarity, dtype: int64\n"
          ],
          "name": "stdout"
        },
        {
          "output_type": "display_data",
          "data": {
            "image/png": "[encoded data removed]",
            "text/plain": [
              "<Figure size 432x288 with 1 Axes>"
            ]
          },
          "metadata": {
            "tags": [],
            "needs_background": "light"
          }
        }
      ]
    },
    {
      "cell_type": "code",
      "metadata": {
        "id": "yRDDAcm0KeYZ",
        "outputId": "38f95fbf-89e1-427e-d04f-e42f9387fba0",
        "colab": {
          "base_uri": "https://localhost:8080/",
          "height": 51
        }
      },
      "source": [
        "lstm.load_glove(glove_folder)"
      ],
      "execution_count": 80,
      "outputs": [
        {
          "output_type": "stream",
          "text": [
            "Loading GloVe embeddings...\n",
            "400000 embeddings loaded.\n"
          ],
          "name": "stdout"
        }
      ]
    },
    {
      "cell_type": "code",
      "metadata": {
        "id": "pBZkStbnQXhV",
        "outputId": "21d40d15-90bb-4c37-d4c3-71b768b9a6ee",
        "colab": {
          "base_uri": "https://localhost:8080/",
          "height": 1000
        }
      },
      "source": [
        "model = lstm.fit(model_name='sentiments_100neurons', folder='./models/sentiments')"
      ],
      "execution_count": 81,
      "outputs": [
        {
          "output_type": "stream",
          "text": [
            "Balancing dataset...\n",
            "Using 7072 samples per category\n",
            "Building training and test datasets...\n",
            "Building word embeddings from GloVe...\n",
            "Building model...\n",
            "WARNING:tensorflow:Layer lstm_4 will not use cuDNN kernel since it doesn't meet the cuDNN kernel criteria. It will use generic GPU kernel as fallback when running on GPU\n",
            "Model: \"sequential_4\"\n",
            "_________________________________________________________________\n",
            "Layer (type)                 Output Shape              Param #   \n",
            "=================================================================\n",
            "embedding_4 (Embedding)      (None, 100, 300)          18000000  \n",
            "_________________________________________________________________\n",
            "lstm_4 (LSTM)                (None, 100)               160400    \n",
            "_________________________________________________________________\n",
            "dropout_4 (Dropout)          (None, 100)               0         \n",
            "_________________________________________________________________\n",
            "dense_4 (Dense)              (None, 5)                 505       \n",
            "=================================================================\n",
            "Total params: 18,160,905\n",
            "Trainable params: 160,905\n",
            "Non-trainable params: 18,000,000\n",
            "_________________________________________________________________\n",
            "None\n",
            "Fitting model...\n",
            "Epoch 1/50\n",
            "221/221 [==============================] - ETA: 0s - loss: 1.5008 - accuracy: 0.3367\n",
            "Epoch 00001: val_accuracy improved from -inf to 0.36736, saving model to ./models/sentiments/sentiments_100neurons_300dim_60000voc_100seq_model-01_0.37\n",
            "INFO:tensorflow:Assets written to: ./models/sentiments/sentiments_100neurons_300dim_60000voc_100seq_model-01_0.37/assets\n",
            "221/221 [==============================] - 41s 184ms/step - loss: 1.5008 - accuracy: 0.3367 - val_loss: 1.4446 - val_accuracy: 0.3674\n",
            "Epoch 2/50\n",
            "221/221 [==============================] - ETA: 0s - loss: 1.4073 - accuracy: 0.3982\n",
            "Epoch 00002: val_accuracy improved from 0.36736 to 0.40625, saving model to ./models/sentiments/sentiments_100neurons_300dim_60000voc_100seq_model-02_0.41\n",
            "INFO:tensorflow:Assets written to: ./models/sentiments/sentiments_100neurons_300dim_60000voc_100seq_model-02_0.41/assets\n",
            "221/221 [==============================] - 40s 183ms/step - loss: 1.4073 - accuracy: 0.3982 - val_loss: 1.3799 - val_accuracy: 0.4062\n",
            "Epoch 3/50\n",
            "221/221 [==============================] - ETA: 0s - loss: 1.3445 - accuracy: 0.4341\n",
            "Epoch 00003: val_accuracy improved from 0.40625 to 0.43481, saving model to ./models/sentiments/sentiments_100neurons_300dim_60000voc_100seq_model-03_0.43\n",
            "INFO:tensorflow:Assets written to: ./models/sentiments/sentiments_100neurons_300dim_60000voc_100seq_model-03_0.43/assets\n",
            "221/221 [==============================] - 39s 178ms/step - loss: 1.3445 - accuracy: 0.4341 - val_loss: 1.3253 - val_accuracy: 0.4348\n",
            "Epoch 4/50\n",
            "221/221 [==============================] - ETA: 0s - loss: 1.2828 - accuracy: 0.4624\n",
            "Epoch 00004: val_accuracy improved from 0.43481 to 0.44754, saving model to ./models/sentiments/sentiments_100neurons_300dim_60000voc_100seq_model-04_0.45\n",
            "INFO:tensorflow:Assets written to: ./models/sentiments/sentiments_100neurons_300dim_60000voc_100seq_model-04_0.45/assets\n",
            "221/221 [==============================] - 38s 173ms/step - loss: 1.2828 - accuracy: 0.4624 - val_loss: 1.2884 - val_accuracy: 0.4475\n",
            "Epoch 5/50\n",
            "221/221 [==============================] - ETA: 0s - loss: 1.2195 - accuracy: 0.4903\n",
            "Epoch 00005: val_accuracy improved from 0.44754 to 0.46324, saving model to ./models/sentiments/sentiments_100neurons_300dim_60000voc_100seq_model-05_0.46\n",
            "INFO:tensorflow:Assets written to: ./models/sentiments/sentiments_100neurons_300dim_60000voc_100seq_model-05_0.46/assets\n",
            "221/221 [==============================] - 40s 183ms/step - loss: 1.2195 - accuracy: 0.4903 - val_loss: 1.2497 - val_accuracy: 0.4632\n",
            "Epoch 6/50\n",
            "221/221 [==============================] - ETA: 0s - loss: 1.1667 - accuracy: 0.5176\n",
            "Epoch 00006: val_accuracy improved from 0.46324 to 0.48685, saving model to ./models/sentiments/sentiments_100neurons_300dim_60000voc_100seq_model-06_0.49\n",
            "INFO:tensorflow:Assets written to: ./models/sentiments/sentiments_100neurons_300dim_60000voc_100seq_model-06_0.49/assets\n",
            "221/221 [==============================] - 38s 174ms/step - loss: 1.1667 - accuracy: 0.5176 - val_loss: 1.2162 - val_accuracy: 0.4868\n",
            "Epoch 7/50\n",
            "221/221 [==============================] - ETA: 0s - loss: 1.1165 - accuracy: 0.5366\n",
            "Epoch 00007: val_accuracy improved from 0.48685 to 0.50042, saving model to ./models/sentiments/sentiments_100neurons_300dim_60000voc_100seq_model-07_0.50\n",
            "INFO:tensorflow:Assets written to: ./models/sentiments/sentiments_100neurons_300dim_60000voc_100seq_model-07_0.50/assets\n",
            "221/221 [==============================] - 39s 178ms/step - loss: 1.1165 - accuracy: 0.5366 - val_loss: 1.1853 - val_accuracy: 0.5004\n",
            "Epoch 8/50\n",
            "221/221 [==============================] - ETA: 0s - loss: 1.0805 - accuracy: 0.5496\n",
            "Epoch 00008: val_accuracy improved from 0.50042 to 0.50170, saving model to ./models/sentiments/sentiments_100neurons_300dim_60000voc_100seq_model-08_0.50\n",
            "INFO:tensorflow:Assets written to: ./models/sentiments/sentiments_100neurons_300dim_60000voc_100seq_model-08_0.50/assets\n",
            "221/221 [==============================] - 38s 171ms/step - loss: 1.0805 - accuracy: 0.5496 - val_loss: 1.1742 - val_accuracy: 0.5017\n",
            "Epoch 9/50\n",
            "221/221 [==============================] - ETA: 0s - loss: 1.0392 - accuracy: 0.5700\n",
            "Epoch 00009: val_accuracy improved from 0.50170 to 0.50933, saving model to ./models/sentiments/sentiments_100neurons_300dim_60000voc_100seq_model-09_0.51\n",
            "INFO:tensorflow:Assets written to: ./models/sentiments/sentiments_100neurons_300dim_60000voc_100seq_model-09_0.51/assets\n",
            "221/221 [==============================] - 40s 180ms/step - loss: 1.0392 - accuracy: 0.5700 - val_loss: 1.1635 - val_accuracy: 0.5093\n",
            "Epoch 10/50\n",
            "221/221 [==============================] - ETA: 0s - loss: 1.0092 - accuracy: 0.5853\n",
            "Epoch 00010: val_accuracy improved from 0.50933 to 0.52517, saving model to ./models/sentiments/sentiments_100neurons_300dim_60000voc_100seq_model-10_0.53\n",
            "INFO:tensorflow:Assets written to: ./models/sentiments/sentiments_100neurons_300dim_60000voc_100seq_model-10_0.53/assets\n",
            "221/221 [==============================] - 40s 180ms/step - loss: 1.0092 - accuracy: 0.5853 - val_loss: 1.1456 - val_accuracy: 0.5252\n",
            "Epoch 11/50\n",
            "221/221 [==============================] - ETA: 0s - loss: 0.9734 - accuracy: 0.5976\n",
            "Epoch 00011: val_accuracy did not improve from 0.52517\n",
            "221/221 [==============================] - 36s 162ms/step - loss: 0.9734 - accuracy: 0.5976 - val_loss: 1.1403 - val_accuracy: 0.5199\n",
            "Epoch 12/50\n",
            "221/221 [==============================] - ETA: 0s - loss: 0.9509 - accuracy: 0.6090\n",
            "Epoch 00012: val_accuracy improved from 0.52517 to 0.52644, saving model to ./models/sentiments/sentiments_100neurons_300dim_60000voc_100seq_model-12_0.53\n",
            "INFO:tensorflow:Assets written to: ./models/sentiments/sentiments_100neurons_300dim_60000voc_100seq_model-12_0.53/assets\n",
            "221/221 [==============================] - 39s 177ms/step - loss: 0.9509 - accuracy: 0.6090 - val_loss: 1.1371 - val_accuracy: 0.5264\n",
            "Epoch 13/50\n",
            "221/221 [==============================] - ETA: 0s - loss: 0.9228 - accuracy: 0.6213\n",
            "Epoch 00013: val_accuracy improved from 0.52644 to 0.52870, saving model to ./models/sentiments/sentiments_100neurons_300dim_60000voc_100seq_model-13_0.53\n",
            "INFO:tensorflow:Assets written to: ./models/sentiments/sentiments_100neurons_300dim_60000voc_100seq_model-13_0.53/assets\n",
            "221/221 [==============================] - 40s 181ms/step - loss: 0.9228 - accuracy: 0.6213 - val_loss: 1.1307 - val_accuracy: 0.5287\n",
            "Epoch 14/50\n",
            "221/221 [==============================] - ETA: 0s - loss: 0.8992 - accuracy: 0.6299\n",
            "Epoch 00014: val_accuracy improved from 0.52870 to 0.53691, saving model to ./models/sentiments/sentiments_100neurons_300dim_60000voc_100seq_model-14_0.54\n",
            "INFO:tensorflow:Assets written to: ./models/sentiments/sentiments_100neurons_300dim_60000voc_100seq_model-14_0.54/assets\n",
            "221/221 [==============================] - 39s 179ms/step - loss: 0.8992 - accuracy: 0.6299 - val_loss: 1.1295 - val_accuracy: 0.5369\n",
            "Epoch 15/50\n",
            "221/221 [==============================] - ETA: 0s - loss: 0.8809 - accuracy: 0.6408\n",
            "Epoch 00015: val_accuracy did not improve from 0.53691\n",
            "221/221 [==============================] - 38s 171ms/step - loss: 0.8809 - accuracy: 0.6408 - val_loss: 1.1326 - val_accuracy: 0.5331\n",
            "Epoch 16/50\n",
            "221/221 [==============================] - ETA: 0s - loss: 0.8590 - accuracy: 0.6463\n",
            "Epoch 00016: val_accuracy improved from 0.53691 to 0.53889, saving model to ./models/sentiments/sentiments_100neurons_300dim_60000voc_100seq_model-16_0.54\n",
            "INFO:tensorflow:Assets written to: ./models/sentiments/sentiments_100neurons_300dim_60000voc_100seq_model-16_0.54/assets\n",
            "221/221 [==============================] - 40s 179ms/step - loss: 0.8590 - accuracy: 0.6463 - val_loss: 1.1379 - val_accuracy: 0.5389\n",
            "Epoch 17/50\n",
            "221/221 [==============================] - ETA: 0s - loss: 0.8406 - accuracy: 0.6545\n",
            "Epoch 00017: val_accuracy improved from 0.53889 to 0.54016, saving model to ./models/sentiments/sentiments_100neurons_300dim_60000voc_100seq_model-17_0.54\n",
            "INFO:tensorflow:Assets written to: ./models/sentiments/sentiments_100neurons_300dim_60000voc_100seq_model-17_0.54/assets\n",
            "221/221 [==============================] - 40s 180ms/step - loss: 0.8406 - accuracy: 0.6545 - val_loss: 1.1561 - val_accuracy: 0.5402\n",
            "Epoch 18/50\n",
            "221/221 [==============================] - ETA: 0s - loss: 0.8266 - accuracy: 0.6611\n",
            "Epoch 00018: val_accuracy did not improve from 0.54016\n",
            "221/221 [==============================] - 37s 166ms/step - loss: 0.8266 - accuracy: 0.6611 - val_loss: 1.1572 - val_accuracy: 0.5399\n",
            "Epoch 19/50\n",
            "221/221 [==============================] - ETA: 0s - loss: 0.8118 - accuracy: 0.6649\n",
            "Epoch 00019: val_accuracy did not improve from 0.54016\n",
            "221/221 [==============================] - 36s 164ms/step - loss: 0.8118 - accuracy: 0.6649 - val_loss: 1.1542 - val_accuracy: 0.5373\n",
            "Epoch 20/50\n",
            "221/221 [==============================] - ETA: 0s - loss: 0.7980 - accuracy: 0.6745\n",
            "Epoch 00020: val_accuracy did not improve from 0.54016\n",
            "221/221 [==============================] - 36s 161ms/step - loss: 0.7980 - accuracy: 0.6745 - val_loss: 1.1595 - val_accuracy: 0.5392\n",
            "Epoch 21/50\n",
            "221/221 [==============================] - ETA: 0s - loss: 0.7837 - accuracy: 0.6784\n",
            "Epoch 00021: val_accuracy did not improve from 0.54016\n",
            "221/221 [==============================] - 35s 158ms/step - loss: 0.7837 - accuracy: 0.6784 - val_loss: 1.1624 - val_accuracy: 0.5375\n",
            "Epoch 22/50\n",
            "221/221 [==============================] - ETA: 0s - loss: 0.7709 - accuracy: 0.6852\n",
            "Epoch 00022: val_accuracy did not improve from 0.54016\n",
            "221/221 [==============================] - 35s 159ms/step - loss: 0.7709 - accuracy: 0.6852 - val_loss: 1.1680 - val_accuracy: 0.5363\n",
            "Calculating predictions for the best model...\n",
            "WARNING:tensorflow:Layer lstm_4 will not use cuDNN kernel since it doesn't meet the cuDNN kernel criteria. It will use generic GPU kernel as fallback when running on GPU\n",
            "Calculating metrics for the best model...\n"
          ],
          "name": "stdout"
        },
        {
          "output_type": "error",
          "ename": "ValueError",
          "evalue": "ignored",
          "traceback": [
            "\u001b[0;31m---------------------------------------------------------------------------\u001b[0m",
            "\u001b[0;31mValueError\u001b[0m                                Traceback (most recent call last)",
            "\u001b[0;32m<ipython-input-81-df177520b91c>\u001b[0m in \u001b[0;36m<module>\u001b[0;34m()\u001b[0m\n\u001b[0;32m----> 1\u001b[0;31m \u001b[0mmodel\u001b[0m \u001b[0;34m=\u001b[0m \u001b[0mlstm\u001b[0m\u001b[0;34m.\u001b[0m\u001b[0mfit\u001b[0m\u001b[0;34m(\u001b[0m\u001b[0mmodel_name\u001b[0m\u001b[0;34m=\u001b[0m\u001b[0;34m'sentiments_100neurons'\u001b[0m\u001b[0;34m,\u001b[0m \u001b[0mfolder\u001b[0m\u001b[0;34m=\u001b[0m\u001b[0;34m'./models/sentiments'\u001b[0m\u001b[0;34m)\u001b[0m\u001b[0;34m\u001b[0m\u001b[0;34m\u001b[0m\u001b[0m\n\u001b[0m",
            "\u001b[0;32m<ipython-input-76-b50abf84e83a>\u001b[0m in \u001b[0;36mfit\u001b[0;34m(self, model_name, folder, verbose)\u001b[0m\n\u001b[1;32m    249\u001b[0m         \u001b[0mself\u001b[0m\u001b[0;34m.\u001b[0m\u001b[0m_predicted_classes\u001b[0m \u001b[0;34m=\u001b[0m \u001b[0mnp\u001b[0m\u001b[0;34m.\u001b[0m\u001b[0margmax\u001b[0m\u001b[0;34m(\u001b[0m\u001b[0mself\u001b[0m\u001b[0;34m.\u001b[0m\u001b[0m_predicted_proba\u001b[0m\u001b[0;34m,\u001b[0m \u001b[0maxis\u001b[0m\u001b[0;34m=\u001b[0m\u001b[0;36m1\u001b[0m\u001b[0;34m)\u001b[0m\u001b[0;34m\u001b[0m\u001b[0;34m\u001b[0m\u001b[0m\n\u001b[1;32m    250\u001b[0m         \u001b[0mself\u001b[0m\u001b[0;34m.\u001b[0m\u001b[0mconsole\u001b[0m\u001b[0;34m(\u001b[0m\u001b[0;34m'Calculating metrics for the best model...'\u001b[0m\u001b[0;34m)\u001b[0m\u001b[0;34m\u001b[0m\u001b[0;34m\u001b[0m\u001b[0m\n\u001b[0;32m--> 251\u001b[0;31m         \u001b[0mself\u001b[0m\u001b[0;34m.\u001b[0m\u001b[0mevaluate\u001b[0m\u001b[0;34m(\u001b[0m\u001b[0;34m)\u001b[0m\u001b[0;34m\u001b[0m\u001b[0;34m\u001b[0m\u001b[0m\n\u001b[0m\u001b[1;32m    252\u001b[0m         \u001b[0mself\u001b[0m\u001b[0;34m.\u001b[0m\u001b[0mconsole\u001b[0m\u001b[0;34m(\u001b[0m\u001b[0;34m'Finished!'\u001b[0m\u001b[0;34m)\u001b[0m\u001b[0;34m\u001b[0m\u001b[0;34m\u001b[0m\u001b[0m\n\u001b[1;32m    253\u001b[0m \u001b[0;34m\u001b[0m\u001b[0m\n",
            "\u001b[0;32m<ipython-input-76-b50abf84e83a>\u001b[0m in \u001b[0;36mevaluate\u001b[0;34m(self, actual, predicted_proba, threshold)\u001b[0m\n\u001b[1;32m    321\u001b[0m         \u001b[0mself\u001b[0m\u001b[0;34m.\u001b[0m\u001b[0m_eval_predicted_classes\u001b[0m \u001b[0;34m=\u001b[0m \u001b[0meval_predicted_classes\u001b[0m\u001b[0;34m\u001b[0m\u001b[0;34m\u001b[0m\u001b[0m\n\u001b[1;32m    322\u001b[0m \u001b[0;34m\u001b[0m\u001b[0m\n\u001b[0;32m--> 323\u001b[0;31m         \u001b[0mprfs\u001b[0m \u001b[0;34m=\u001b[0m \u001b[0mprecision_recall_fscore_support\u001b[0m\u001b[0;34m(\u001b[0m\u001b[0my_true\u001b[0m\u001b[0;34m=\u001b[0m\u001b[0mself\u001b[0m\u001b[0;34m.\u001b[0m\u001b[0m_eval_actual\u001b[0m\u001b[0;34m,\u001b[0m \u001b[0my_pred\u001b[0m\u001b[0;34m=\u001b[0m\u001b[0mself\u001b[0m\u001b[0;34m.\u001b[0m\u001b[0m_eval_predicted_classes\u001b[0m\u001b[0;34m)\u001b[0m\u001b[0;34m\u001b[0m\u001b[0;34m\u001b[0m\u001b[0m\n\u001b[0m\u001b[1;32m    324\u001b[0m         \u001b[0mprfs\u001b[0m \u001b[0;34m=\u001b[0m \u001b[0mpd\u001b[0m\u001b[0;34m.\u001b[0m\u001b[0mDataFrame\u001b[0m\u001b[0;34m.\u001b[0m\u001b[0mfrom_dict\u001b[0m\u001b[0;34m(\u001b[0m\u001b[0mdict\u001b[0m\u001b[0;34m(\u001b[0m\u001b[0mzip\u001b[0m\u001b[0;34m(\u001b[0m\u001b[0;34m[\u001b[0m\u001b[0;34m'precision'\u001b[0m\u001b[0;34m,\u001b[0m \u001b[0;34m'recall'\u001b[0m\u001b[0;34m,\u001b[0m \u001b[0;34m'fscore'\u001b[0m\u001b[0;34m,\u001b[0m \u001b[0;34m'support'\u001b[0m\u001b[0;34m]\u001b[0m\u001b[0;34m,\u001b[0m \u001b[0mprfs\u001b[0m\u001b[0;34m)\u001b[0m\u001b[0;34m)\u001b[0m\u001b[0;34m)\u001b[0m\u001b[0;34m\u001b[0m\u001b[0;34m\u001b[0m\u001b[0m\n\u001b[1;32m    325\u001b[0m         \u001b[0mprfs\u001b[0m\u001b[0;34m.\u001b[0m\u001b[0mset_index\u001b[0m\u001b[0;34m(\u001b[0m\u001b[0;34m[\u001b[0m\u001b[0mself\u001b[0m\u001b[0;34m.\u001b[0m\u001b[0m_target_range\u001b[0m\u001b[0;34m]\u001b[0m\u001b[0;34m,\u001b[0m \u001b[0minplace\u001b[0m\u001b[0;34m=\u001b[0m\u001b[0;32mTrue\u001b[0m\u001b[0;34m)\u001b[0m\u001b[0;34m\u001b[0m\u001b[0;34m\u001b[0m\u001b[0m\n",
            "\u001b[0;32m/usr/local/lib/python3.6/dist-packages/sklearn/metrics/_classification.py\u001b[0m in \u001b[0;36mprecision_recall_fscore_support\u001b[0;34m(y_true, y_pred, beta, labels, pos_label, average, warn_for, sample_weight, zero_division)\u001b[0m\n\u001b[1;32m   1482\u001b[0m         \u001b[0;32mraise\u001b[0m \u001b[0mValueError\u001b[0m\u001b[0;34m(\u001b[0m\u001b[0;34m\"beta should be >=0 in the F-beta score\"\u001b[0m\u001b[0;34m)\u001b[0m\u001b[0;34m\u001b[0m\u001b[0;34m\u001b[0m\u001b[0m\n\u001b[1;32m   1483\u001b[0m     labels = _check_set_wise_labels(y_true, y_pred, average, labels,\n\u001b[0;32m-> 1484\u001b[0;31m                                     pos_label)\n\u001b[0m\u001b[1;32m   1485\u001b[0m \u001b[0;34m\u001b[0m\u001b[0m\n\u001b[1;32m   1486\u001b[0m     \u001b[0;31m# Calculate tp_sum, pred_sum, true_sum ###\u001b[0m\u001b[0;34m\u001b[0m\u001b[0;34m\u001b[0m\u001b[0;34m\u001b[0m\u001b[0m\n",
            "\u001b[0;32m/usr/local/lib/python3.6/dist-packages/sklearn/metrics/_classification.py\u001b[0m in \u001b[0;36m_check_set_wise_labels\u001b[0;34m(y_true, y_pred, average, labels, pos_label)\u001b[0m\n\u001b[1;32m   1299\u001b[0m                          str(average_options))\n\u001b[1;32m   1300\u001b[0m \u001b[0;34m\u001b[0m\u001b[0m\n\u001b[0;32m-> 1301\u001b[0;31m     \u001b[0my_type\u001b[0m\u001b[0;34m,\u001b[0m \u001b[0my_true\u001b[0m\u001b[0;34m,\u001b[0m \u001b[0my_pred\u001b[0m \u001b[0;34m=\u001b[0m \u001b[0m_check_targets\u001b[0m\u001b[0;34m(\u001b[0m\u001b[0my_true\u001b[0m\u001b[0;34m,\u001b[0m \u001b[0my_pred\u001b[0m\u001b[0;34m)\u001b[0m\u001b[0;34m\u001b[0m\u001b[0;34m\u001b[0m\u001b[0m\n\u001b[0m\u001b[1;32m   1302\u001b[0m     \u001b[0mpresent_labels\u001b[0m \u001b[0;34m=\u001b[0m \u001b[0munique_labels\u001b[0m\u001b[0;34m(\u001b[0m\u001b[0my_true\u001b[0m\u001b[0;34m,\u001b[0m \u001b[0my_pred\u001b[0m\u001b[0;34m)\u001b[0m\u001b[0;34m\u001b[0m\u001b[0;34m\u001b[0m\u001b[0m\n\u001b[1;32m   1303\u001b[0m     \u001b[0;32mif\u001b[0m \u001b[0maverage\u001b[0m \u001b[0;34m==\u001b[0m \u001b[0;34m'binary'\u001b[0m\u001b[0;34m:\u001b[0m\u001b[0;34m\u001b[0m\u001b[0;34m\u001b[0m\u001b[0m\n",
            "\u001b[0;32m/usr/local/lib/python3.6/dist-packages/sklearn/metrics/_classification.py\u001b[0m in \u001b[0;36m_check_targets\u001b[0;34m(y_true, y_pred)\u001b[0m\n\u001b[1;32m     78\u001b[0m     \u001b[0my_pred\u001b[0m \u001b[0;34m:\u001b[0m \u001b[0marray\u001b[0m \u001b[0;32mor\u001b[0m \u001b[0mindicator\u001b[0m \u001b[0mmatrix\u001b[0m\u001b[0;34m\u001b[0m\u001b[0;34m\u001b[0m\u001b[0m\n\u001b[1;32m     79\u001b[0m     \"\"\"\n\u001b[0;32m---> 80\u001b[0;31m     \u001b[0mcheck_consistent_length\u001b[0m\u001b[0;34m(\u001b[0m\u001b[0my_true\u001b[0m\u001b[0;34m,\u001b[0m \u001b[0my_pred\u001b[0m\u001b[0;34m)\u001b[0m\u001b[0;34m\u001b[0m\u001b[0;34m\u001b[0m\u001b[0m\n\u001b[0m\u001b[1;32m     81\u001b[0m     \u001b[0mtype_true\u001b[0m \u001b[0;34m=\u001b[0m \u001b[0mtype_of_target\u001b[0m\u001b[0;34m(\u001b[0m\u001b[0my_true\u001b[0m\u001b[0;34m)\u001b[0m\u001b[0;34m\u001b[0m\u001b[0;34m\u001b[0m\u001b[0m\n\u001b[1;32m     82\u001b[0m     \u001b[0mtype_pred\u001b[0m \u001b[0;34m=\u001b[0m \u001b[0mtype_of_target\u001b[0m\u001b[0;34m(\u001b[0m\u001b[0my_pred\u001b[0m\u001b[0;34m)\u001b[0m\u001b[0;34m\u001b[0m\u001b[0;34m\u001b[0m\u001b[0m\n",
            "\u001b[0;32m/usr/local/lib/python3.6/dist-packages/sklearn/utils/validation.py\u001b[0m in \u001b[0;36mcheck_consistent_length\u001b[0;34m(*arrays)\u001b[0m\n\u001b[1;32m    210\u001b[0m     \u001b[0;32mif\u001b[0m \u001b[0mlen\u001b[0m\u001b[0;34m(\u001b[0m\u001b[0muniques\u001b[0m\u001b[0;34m)\u001b[0m \u001b[0;34m>\u001b[0m \u001b[0;36m1\u001b[0m\u001b[0;34m:\u001b[0m\u001b[0;34m\u001b[0m\u001b[0;34m\u001b[0m\u001b[0m\n\u001b[1;32m    211\u001b[0m         raise ValueError(\"Found input variables with inconsistent numbers of\"\n\u001b[0;32m--> 212\u001b[0;31m                          \" samples: %r\" % [int(l) for l in lengths])\n\u001b[0m\u001b[1;32m    213\u001b[0m \u001b[0;34m\u001b[0m\u001b[0m\n\u001b[1;32m    214\u001b[0m \u001b[0;34m\u001b[0m\u001b[0m\n",
            "\u001b[0;31mValueError\u001b[0m: Found input variables with inconsistent numbers of samples: [7072, 35360]"
          ]
        }
      ]
    },
    {
      "cell_type": "code",
      "metadata": {
        "id": "33Hg5gRuQXOp",
        "outputId": "e1358f66-dfc0-481a-8717-0670a4569f42",
        "colab": {
          "base_uri": "https://localhost:8080/",
          "height": 35
        }
      },
      "source": [
        "lstm.make_prediction('i will never go there again, food was awful')"
      ],
      "execution_count": 82,
      "outputs": [
        {
          "output_type": "execute_result",
          "data": {
            "application/vnd.google.colaboratory.intrinsic+json": {
              "type": "string"
            },
            "text/plain": [
              "'negative'"
            ]
          },
          "metadata": {
            "tags": []
          },
          "execution_count": 82
        }
      ]
    },
    {
      "cell_type": "code",
      "metadata": {
        "id": "rJyx7O9LH2vq",
        "outputId": "e20f762f-9522-47a0-e104-a8a4d6a3f3a4",
        "colab": {
          "base_uri": "https://localhost:8080/",
          "height": 35
        }
      },
      "source": [
        "lstm.make_prediction('food is amazing and service is good')"
      ],
      "execution_count": 84,
      "outputs": [
        {
          "output_type": "execute_result",
          "data": {
            "application/vnd.google.colaboratory.intrinsic+json": {
              "type": "string"
            },
            "text/plain": [
              "'positive'"
            ]
          },
          "metadata": {
            "tags": []
          },
          "execution_count": 84
        }
      ]
    },
    {
      "cell_type": "code",
      "metadata": {
        "id": "ReSE3NNMH2tK",
        "outputId": "f5f4ac71-4796-4530-f9e1-d1f3c994faff",
        "colab": {
          "base_uri": "https://localhost:8080/",
          "height": 35
        }
      },
      "source": [
        "lstm.make_prediction('well, i am not sure, food was ok, but service was good')"
      ],
      "execution_count": 85,
      "outputs": [
        {
          "output_type": "execute_result",
          "data": {
            "application/vnd.google.colaboratory.intrinsic+json": {
              "type": "string"
            },
            "text/plain": [
              "'negative'"
            ]
          },
          "metadata": {
            "tags": []
          },
          "execution_count": 85
        }
      ]
    },
    {
      "cell_type": "code",
      "metadata": {
        "id": "7Q6fi-i4H2PG",
        "outputId": "31c18f14-0a7c-4d69-a378-a91b47f9d62a",
        "colab": {
          "base_uri": "https://localhost:8080/",
          "height": 35
        }
      },
      "source": [
        "lstm.make_prediction(\"A series\")"
      ],
      "execution_count": 94,
      "outputs": [
        {
          "output_type": "execute_result",
          "data": {
            "application/vnd.google.colaboratory.intrinsic+json": {
              "type": "string"
            },
            "text/plain": [
              "'neutral'"
            ]
          },
          "metadata": {
            "tags": []
          },
          "execution_count": 94
        }
      ]
    },
    {
      "cell_type": "code",
      "metadata": {
        "id": "nUjMH335bizh",
        "outputId": "edda874b-ed6f-4d0d-baa7-fe2f9c54e434",
        "colab": {
          "base_uri": "https://localhost:8080/",
          "height": 35
        }
      },
      "source": [
        "lstm.make_prediction(\"Kidman is really the only thing that 's worth watching in Birthday Girl , a film by the stage-trained Jez Butterworth -LRB- Mojo -RRB- that serves as yet another example of the sad decline of British comedies in the post-Full Monty world .\")"
      ],
      "execution_count": 88,
      "outputs": [
        {
          "output_type": "execute_result",
          "data": {
            "application/vnd.google.colaboratory.intrinsic+json": {
              "type": "string"
            },
            "text/plain": [
              "'somewhat positive'"
            ]
          },
          "metadata": {
            "tags": []
          },
          "execution_count": 88
        }
      ]
    },
    {
      "cell_type": "code",
      "metadata": {
        "id": "Mohhhykpbi9M",
        "outputId": "0c4b8013-a5a5-40d6-b162-195b5ad73d82",
        "colab": {
          "base_uri": "https://localhost:8080/",
          "height": 35
        }
      },
      "source": [
        "lstm.make_prediction('watching in Birthday Girl , a film by the stage-trained Jez Butterworth -LRB- Mojo -RRB- that serves')"
      ],
      "execution_count": 89,
      "outputs": [
        {
          "output_type": "execute_result",
          "data": {
            "application/vnd.google.colaboratory.intrinsic+json": {
              "type": "string"
            },
            "text/plain": [
              "'somewhat negative'"
            ]
          },
          "metadata": {
            "tags": []
          },
          "execution_count": 89
        }
      ]
    },
    {
      "cell_type": "code",
      "metadata": {
        "id": "JPPtBxDMbi7Y",
        "outputId": "d54df2a6-7163-4f46-bd2c-ac492deca1fc",
        "colab": {
          "base_uri": "https://localhost:8080/",
          "height": 35
        }
      },
      "source": [
        "lstm.make_prediction('yet another example of the sad decline of British comedies')"
      ],
      "execution_count": 91,
      "outputs": [
        {
          "output_type": "execute_result",
          "data": {
            "application/vnd.google.colaboratory.intrinsic+json": {
              "type": "string"
            },
            "text/plain": [
              "'somewhat positive'"
            ]
          },
          "metadata": {
            "tags": []
          },
          "execution_count": 91
        }
      ]
    },
    {
      "cell_type": "code",
      "metadata": {
        "id": "xJFrPWjPbi46",
        "outputId": "1d10d2b5-471b-45be-db23-ebb88a560373",
        "colab": {
          "base_uri": "https://localhost:8080/",
          "height": 35
        }
      },
      "source": [
        "lstm.make_prediction('I kept wishing I was watching a documentary about the wartime Navajos and what they accomplished instead of all this specious Hollywood hoo-ha .')"
      ],
      "execution_count": 92,
      "outputs": [
        {
          "output_type": "execute_result",
          "data": {
            "application/vnd.google.colaboratory.intrinsic+json": {
              "type": "string"
            },
            "text/plain": [
              "'positive'"
            ]
          },
          "metadata": {
            "tags": []
          },
          "execution_count": 92
        }
      ]
    },
    {
      "cell_type": "code",
      "metadata": {
        "id": "JM2S5BJOdX1Q"
      },
      "source": [
        "dfTest = pd.read_csv(\"/content/drive/My Drive/Colab Notebooks/RNN/test.tsv\", sep=\"\\t\")"
      ],
      "execution_count": 95,
      "outputs": []
    },
    {
      "cell_type": "code",
      "metadata": {
        "id": "UlHwvpzPeSmv",
        "outputId": "143f7144-1af9-42b3-b39c-b4fbb3b025bb",
        "colab": {
          "base_uri": "https://localhost:8080/",
          "height": 204
        }
      },
      "source": [
        "dfTest.head()"
      ],
      "execution_count": 96,
      "outputs": [
        {
          "output_type": "execute_result",
          "data": {
            "text/html": [
              "<div>\n",
              "<style scoped>\n",
              "    .dataframe tbody tr th:only-of-type {\n",
              "        vertical-align: middle;\n",
              "    }\n",
              "\n",
              "    .dataframe tbody tr th {\n",
              "        vertical-align: top;\n",
              "    }\n",
              "\n",
              "    .dataframe thead th {\n",
              "        text-align: right;\n",
              "    }\n",
              "</style>\n",
              "<table border=\"1\" class=\"dataframe\">\n",
              "  <thead>\n",
              "    <tr style=\"text-align: right;\">\n",
              "      <th></th>\n",
              "      <th>PhraseId</th>\n",
              "      <th>SentenceId</th>\n",
              "      <th>Phrase</th>\n",
              "    </tr>\n",
              "  </thead>\n",
              "  <tbody>\n",
              "    <tr>\n",
              "      <th>0</th>\n",
              "      <td>156061</td>\n",
              "      <td>8545</td>\n",
              "      <td>An intermittently pleasing but mostly routine ...</td>\n",
              "    </tr>\n",
              "    <tr>\n",
              "      <th>1</th>\n",
              "      <td>156062</td>\n",
              "      <td>8545</td>\n",
              "      <td>An intermittently pleasing but mostly routine ...</td>\n",
              "    </tr>\n",
              "    <tr>\n",
              "      <th>2</th>\n",
              "      <td>156063</td>\n",
              "      <td>8545</td>\n",
              "      <td>An</td>\n",
              "    </tr>\n",
              "    <tr>\n",
              "      <th>3</th>\n",
              "      <td>156064</td>\n",
              "      <td>8545</td>\n",
              "      <td>intermittently pleasing but mostly routine effort</td>\n",
              "    </tr>\n",
              "    <tr>\n",
              "      <th>4</th>\n",
              "      <td>156065</td>\n",
              "      <td>8545</td>\n",
              "      <td>intermittently pleasing but mostly routine</td>\n",
              "    </tr>\n",
              "  </tbody>\n",
              "</table>\n",
              "</div>"
            ],
            "text/plain": [
              "   PhraseId  SentenceId                                             Phrase\n",
              "0    156061        8545  An intermittently pleasing but mostly routine ...\n",
              "1    156062        8545  An intermittently pleasing but mostly routine ...\n",
              "2    156063        8545                                                 An\n",
              "3    156064        8545  intermittently pleasing but mostly routine effort\n",
              "4    156065        8545         intermittently pleasing but mostly routine"
            ]
          },
          "metadata": {
            "tags": []
          },
          "execution_count": 96
        }
      ]
    },
    {
      "cell_type": "code",
      "metadata": {
        "id": "A_KbqxqCeVbi"
      },
      "source": [
        "dfTest['Sentiment'] = dfTest['Phrase'].apply(lstm.make_prediction)"
      ],
      "execution_count": null,
      "outputs": []
    },
    {
      "cell_type": "code",
      "metadata": {
        "id": "VWYr4cpCfjmo"
      },
      "source": [
        "dfTest.head(50)"
      ],
      "execution_count": null,
      "outputs": []
    },
    {
      "cell_type": "code",
      "metadata": {
        "id": "8fQUa8Ioga3p"
      },
      "source": [
        ""
      ],
      "execution_count": null,
      "outputs": []
    },
    {
      "cell_type": "code",
      "metadata": {
        "id": "DhYsPyX0ga1a"
      },
      "source": [
        ""
      ],
      "execution_count": null,
      "outputs": []
    },
    {
      "cell_type": "code",
      "metadata": {
        "id": "RpVaVdeGgax2"
      },
      "source": [
        ""
      ],
      "execution_count": null,
      "outputs": []
    }
  ]
}